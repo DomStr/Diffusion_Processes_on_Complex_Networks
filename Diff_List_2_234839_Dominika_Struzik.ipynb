{
 "cells": [
  {
   "cell_type": "code",
   "execution_count": 244,
   "metadata": {},
   "outputs": [],
   "source": [
    "class Graph:\n",
    "    \n",
    "    def __init__(self):           \n",
    "        self.ListOfNodes = {}    #list of nodes/vertices in our Graph\n",
    "        self.NumberOfNodes = 0   #number of nodes\n",
    "        self.edge = []\n",
    "        \n",
    "    def addNodes(self,node):   #adding new node to the graph\n",
    "        self.NumberOfNodes = self.NumberOfNodes + 1 \n",
    "        NewNode = Vertex(node) \n",
    "        self.ListOfNodes[node] = NewNode\n",
    "        return NewNode\n",
    "    \n",
    "    def addNodes_fromList(self,new_node_list): #adding nodes from list\n",
    "        for i in new_node_list:\n",
    "            if i not in self.ListOfNodes:\n",
    "                self.ListOfNodes.update({'NewNode':i})             \n",
    "    \n",
    "    def getNode(self,n):       #checking if node is in the graph    \n",
    "        if n in self.ListOfNodes: \n",
    "            print('True') \n",
    "        else:\n",
    "            print('False')\n",
    "            \n",
    "    def getListOfNodes(self):                     # Return list of Nodes     \n",
    "        return self.ListOfNodes.node()\n",
    "    \n",
    "    def addEdges(self,n1,n2,weight=0):  #connecting Nodes with Edges, and adding ones if they did not exist before, but now have edges\n",
    "        if n1 not in self.ListOfNodes:\n",
    "            nn = self.addNodes(n1)\n",
    "        if n2 not in self.ListOfNodes:\n",
    "            nn = self.addNodes(n2)\n",
    "        edge = self.ListOfNodes[n1].addNeighbour(self.ListOfNodes[n2], weight)\n",
    "        \n",
    "    def addEdges_fromList(self,new_edge_list):\n",
    "        for j in new_edge_list:\n",
    "            check = 0\n",
    "            number = 0\n",
    "            if len(j) == 2:                        # chcecking if the edge has weight\n",
    "                j = j + (1,)\n",
    "            for i in self.edge:\n",
    "                if i[0] == j[0] and i[1] == j[1] or i[0] == j[1] and i[1] == j[0]:\n",
    "                    check = 1\n",
    "                    self.edge.pop(number)\n",
    "                    self.edge.append(j)\n",
    "                    break \n",
    "                number = number + 1\n",
    "\n",
    "            if check  == 0:\n",
    "                self.edge.append(j)                 # adding edge\n",
    "                if j[0] not in self.ListOfNodes:    # adding nodes if they weren't in the graph\n",
    "                    self.ListOfNodes.update({'NewNode':j[0]})\n",
    "                if j[1] not in self.ListOfNodes:\n",
    "                    self.ListOfNodes.update({'NewNode':j[1]})\n",
    "    \n",
    "    def getEdges(self,weights):             # Return list of Edges\n",
    "        if weights == True:\n",
    "            return self.edges\n",
    "        else:\n",
    "            List = []\n",
    "            for i in self.edges:\n",
    "                List.append((i[0],)+(i[1],))\n",
    "            return List \n",
    "    \n",
    "    def getNeighbours(self,number):        # nodes neighbours\n",
    "        List = []\n",
    "        for i in self.edge:\n",
    "            if i[0] == number or i[1] == number:\n",
    "                if i[0] == number:\n",
    "                    List.append(i[1])\n",
    "                else:\n",
    "                    List.append(i[0])\n",
    "        return List\n",
    "    \n",
    "    def write_as_txt(self):\n",
    "        txt = \"graph G1 { \\n\"\n",
    "        for i in self.edge:\n",
    "            txt = txt+ str(i[0]) + \"--\" + str(i[1]) +\"[label = \"+ str(i[2]) +\"] ; \\n\"\n",
    "        txt = txt + \"}\"    \n",
    "        out = open(\"graph.txt\",'w')\n",
    "        out.write(txt)\n",
    "        out.close()\n",
    "        \n",
    "    #EXERCISE 2 getting shortest path from node to node\n",
    "    \n",
    "    def getShortestPath(self,number):\n",
    "        if number not in self.ListOfNodes:\n",
    "            print(\"This node does not exist in this graph.\")\n",
    "        List_was = [number]          # List of nodes\n",
    "        List_degree = [[number]]     \n",
    "        start = 0\n",
    "        check = 0\n",
    "        while len(List_was) < len(self.ListOfNodes): \n",
    "            List_add = [] \n",
    "            for elements in List_degree[start]:\n",
    "                List = self.getNeighbours(elements)\n",
    "                Litter = []\n",
    "                for i in List:\n",
    "                \n",
    "                    if i in List_was:\n",
    "                        Litter.append(i)     \n",
    "                    else:\n",
    "                        List_was.append(i)\n",
    "                \n",
    "                for a in Litter:\n",
    "                    List.pop(List.index(a))\n",
    "                \n",
    "                List_add = List_add + List\n",
    "            if len(List_add) > 0:\n",
    "                List_degree.append(List_add)\n",
    "            else:\n",
    "                check = 1\n",
    "                break\n",
    "            start = start + 1\n",
    "        if check == 1:\n",
    "            List_without_connection = ['None connection with:']\n",
    "            for i in self.ListOfNodes:\n",
    "                if i not in List_was:\n",
    "                    List_without_connection.append(i)\n",
    "            List_degree.append(List_without_connection)\n",
    "        return List_degree\n",
    "    \n",
    "    def NodesDegree(self,number):\n",
    "        return len(self.getNeighbours(number))\n",
    "        "
   ]
  },
  {
   "cell_type": "code",
   "execution_count": 225,
   "metadata": {},
   "outputs": [],
   "source": [
    "#TEST 1#\n",
    "G1 = Graph()\n",
    "G1.addNodes_fromList([1,2,3,4,5,6,7,8,9,10])\n",
    "G1.addEdges_fromList([(1,2),(3,1),(1,4),(1,5),(1,6),(2,7),(7,8),(8,10),(10,7),(8,9),(9,7),(9,10),(5,6),(3,4),(3,6)])\n",
    "G1.write_as_txt()"
   ]
  },
  {
   "cell_type": "markdown",
   "metadata": {},
   "source": [
    "## TEST 1 - GRAPH COMPARISON\n",
    "![tekst altenatywny](Graph_test.PNG \"Graph_WebGraphviz\")\n",
    "![tekst altenatywny](Graph_gephi.PNG \"Graph_Gephi\")\n",
    "\n",
    "## We can see that graphs are the same."
   ]
  },
  {
   "cell_type": "code",
   "execution_count": 245,
   "metadata": {},
   "outputs": [
    {
     "data": {
      "text/plain": [
       "<__main__.Vertex at 0x6658aa8>"
      ]
     },
     "execution_count": 245,
     "metadata": {},
     "output_type": "execute_result"
    }
   ],
   "source": [
    "##TEST 2\n",
    "G2 = Graph()\n",
    "#adding node\n",
    "G2.addNodes(1)"
   ]
  },
  {
   "cell_type": "code",
   "execution_count": 246,
   "metadata": {},
   "outputs": [],
   "source": [
    "#adding nodes from List\n",
    "G2.addNodes_fromList([2,3,4])"
   ]
  },
  {
   "cell_type": "code",
   "execution_count": 247,
   "metadata": {},
   "outputs": [
    {
     "name": "stdout",
     "output_type": "stream",
     "text": [
      "True\n"
     ]
    }
   ],
   "source": [
    "#checking if node is in the graph\n",
    "G2.getNode(1)"
   ]
  },
  {
   "cell_type": "code",
   "execution_count": 248,
   "metadata": {},
   "outputs": [
    {
     "name": "stdout",
     "output_type": "stream",
     "text": [
      "False\n"
     ]
    }
   ],
   "source": [
    "#checking if node is in the graph\n",
    "G2.getNode(5)"
   ]
  },
  {
   "cell_type": "code",
   "execution_count": 249,
   "metadata": {},
   "outputs": [],
   "source": [
    "#adding Edge\n",
    "G2.addEdges(1,2)\n",
    "G2.addEdges(2,4)"
   ]
  },
  {
   "cell_type": "code",
   "execution_count": 250,
   "metadata": {},
   "outputs": [],
   "source": [
    "#adding Edges from List\n",
    "G2.addEdges_fromList([(1,3),(3,4)])"
   ]
  },
  {
   "cell_type": "code",
   "execution_count": 251,
   "metadata": {},
   "outputs": [],
   "source": [
    "#adding Edges with weights\n",
    "G2.addEdges(1,4,0.5)\n",
    "G2.addEdges_fromList([(4,1,0.3),(3,2,0.1)])"
   ]
  },
  {
   "cell_type": "code",
   "execution_count": 252,
   "metadata": {},
   "outputs": [
    {
     "data": {
      "text/plain": [
       "[3, 4]"
      ]
     },
     "execution_count": 252,
     "metadata": {},
     "output_type": "execute_result"
    }
   ],
   "source": [
    "#checking neighbours of node\n",
    "G2.getNeighbours(1)"
   ]
  },
  {
   "cell_type": "code",
   "execution_count": 253,
   "metadata": {},
   "outputs": [
    {
     "data": {
      "text/plain": [
       "[[1], [3, 4], [2]]"
      ]
     },
     "execution_count": 253,
     "metadata": {},
     "output_type": "execute_result"
    }
   ],
   "source": [
    "#Shortest path - exercise 2\n",
    "G2.getShortestPath(1)"
   ]
  },
  {
   "cell_type": "code",
   "execution_count": 254,
   "metadata": {},
   "outputs": [
    {
     "data": {
      "text/plain": [
       "2"
      ]
     },
     "execution_count": 254,
     "metadata": {},
     "output_type": "execute_result"
    }
   ],
   "source": [
    "G2.NodesDegree(1)"
   ]
  }
 ],
 "metadata": {
  "kernelspec": {
   "display_name": "Python 3",
   "language": "python",
   "name": "python3"
  },
  "language_info": {
   "codemirror_mode": {
    "name": "ipython",
    "version": 3
   },
   "file_extension": ".py",
   "mimetype": "text/x-python",
   "name": "python",
   "nbconvert_exporter": "python",
   "pygments_lexer": "ipython3",
   "version": "3.8.2"
  }
 },
 "nbformat": 4,
 "nbformat_minor": 4
}
