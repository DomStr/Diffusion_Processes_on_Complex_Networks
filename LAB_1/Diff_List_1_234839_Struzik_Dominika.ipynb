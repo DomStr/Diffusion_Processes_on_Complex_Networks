{
 "cells": [
  {
   "cell_type": "markdown",
   "metadata": {},
   "source": [
    "# DIFFIUSION PROCESSES ON COMPLEX NETWORKS\n",
    "## Assingment 1\n",
    "## 14.03.2020\n",
    "\n",
    "# Exercise 1"
   ]
  },
  {
   "cell_type": "markdown",
   "metadata": {},
   "source": [
    "a) ![tekst altenatywny](hand_draw.jpg \"Network\")\n",
    "\n",
    "A - Alice\\\n",
    "B - Bob\\\n",
    "C - Carl\\\n",
    "D - David\\\n",
    "E - Ernst\\\n",
    "F - Frank\\\n",
    "G - Gail\\\n",
    "H - Harry\\\n",
    "I - Irene\\\n",
    "J - Jen"
   ]
  },
  {
   "cell_type": "markdown",
   "metadata": {},
   "source": [
    "b) **Number** of **nodes** in the network: **n=10**\n",
    "    \n",
    "c) **Network Density = $\\frac{ActualConnections}{PotentialConnections}$**\n",
    "    PC = $\\frac{n(n-1)}{2}$, where $n$ - number of nodes.\\\n",
    "    **$AC = 15$**, **$PC = 45$**, so **$ND = \\frac{1}{3}$**\n",
    "    \n",
    "d) **Degree** of each node (edges conected to each node):\\\n",
    "        $k_{A} = \\textbf{5}$, $k_{B} = 2$, $k_{C} = 3$, $k_{D} = 2$, $k_{E} = 2$, $k_{F} = 3$, $k_{G} = 4$, $k_{H} = 3$, $k_{I} = 3$, $k_{J} = 3$.     \n",
    "According to this measure the most central node is **A**, which means that it might have the biggest influance for the rest of nodes.\n",
    "\n",
    "e) **Clustering** of a node is calculated using  following formula:    \n",
    "    $$c_{i} = \\frac{N_{i}}{P_{i}},$$\n",
    "    where $N_{i}$ - number of links between neighbours of node, $P_{i} = \\frac{d_{i}(d_{i}-1)}{2}$ - max possible connections between neighbours of node, $d_{i}$ - degree centrality.\\\n",
    "    $c_{A} = \\frac{3}{10} \\approx 0.33$, $c_{B} = = \\frac{0}{1} 0$, $c_{C} = \\frac{2}{3} \\approx 0.67$, $c_{D} = \\frac{1}{1} = 1$, $c_{E} = \\frac{1}{1} = 1$, $c_{F} = \\frac{2}{3} \\approx 0.67$, $c_{G} = \\frac{3}{6} = 0.5$, $c_{H} = \\frac{3}{3} = 1$, $c_{I} = \\frac{3}{3} = 1$, $c_{J} = \\frac{3}{3} = 1$.\\\n",
    "    $<c>$ - average clustering coefficient approximetely equals $0.713$.\n",
    "\n",
    "f) **Raw Closeness centrality** is calculated using following formula:\n",
    "    $$c_{c_{i}} = \\frac{1}{\\sum_{i,j}d_{i,j}},$$\n",
    "where $d_{i,j}$ is the shortest distance between nodes $i$ and $j$.\n",
    "\n",
    "$c_{c_{A}}  = \\frac{1}{16} \\approx 0.0625$, $c_{c_{B}} = \\frac{1}{16} \\approx 0.0625$, $c_{c_{C}} = \\frac{1}{22} \\approx 0.0455$, $c_{c_{D}} = \\frac{1}{23} \\approx 0.0435$, $c_{c_{E}} = \\frac{1}{23} \\approx 0.0435$, $c_{c_{F}} = \\frac{1}{22} \\approx 0.0455$, $c_{c_{G}} = \\frac{1}{18} = 0.0556$, $c_{c_{H}} = \\frac{1}{24} \\approx 0.0417$, $c_{c_{I}} = \\frac{1}{24} \\approx 0.0417$, $c_{c_{J}} = \\frac{1}{24} \\approx 0.0417$.\n",
    "    \n",
    "**Normalised Closeness centrality** which can be calculated by the followin formula:\n",
    "$$ C_{c_{i}} = \\frac{n-1}{\\sum_{i,j}d_{i,j}}.$$\n",
    "\n",
    "$C_{c_{A}} = \\frac{9}{16} \\approx 0.5625$, $C_{c_{B}} \\approx 0.5625$, $C_{c_{C}} \\approx 0.4091$, $C_{c_{D}} \\approx 0.3913$, $C_{c_{E}} \\approx 0.3913$, $C_{c_{F}} \\approx 0.4091$, $C_{c_{G}} = 0.5000$, $C_{c_{H}} \\approx 0.3750$, $C_{c_{I}} \\approx 0.3750$, $C_{c_{J}} \\approx 0.3750$.\n",
    "\n",
    "According to both of this measures the most central nodes are: **A** and **B**.\n",
    "\n",
    "g) **Betweenness centrality** of each node can be calculated using a formula:\n",
    "    $$C_{i}^{b} = \\sum{j \\neq k}\\frac{g_{j,k}(i)}{g_{j,k}},$$\n",
    "    where $g_{j,k}(i)$ - total number of shortest path between nodes $j$ and $k$ that pass through $i$, $g_{j,k}$ - total number of shortest path between nodes $j$ and $k$.\n",
    "\n",
    "$c_{A}^{b} \\frac{22}{36} \\approx 0.6111$, $c_{B}^{b} \\frac{20}{36} \\approx 0.5556$, $c_{C}^{b} = \\frac{0.5}{36} \\approx 0.0139$, $c_{D}^{b} = 0$, $c_{E}^{b} = 0$, $c_{F}^{b} = \\frac{0.5}{36} \\approx 0.0139$, $c_{G}^{b} = \\frac{18}{36} = 0.5$, $c_{H}^{b} = 0$, $c_{I}^{b} = 0$, $c_{J}^{b} = 0$.\n",
    "\n",
    "According to this measure the most central node is: **A**, which means it is one of the most importnat nodes in terms of transporting information between other nodes.\n"
   ]
  },
  {
   "cell_type": "markdown",
   "metadata": {},
   "source": [
    "# Exercise 2 - done in Gephi program."
   ]
  },
  {
   "cell_type": "markdown",
   "metadata": {},
   "source": [
    "# Exercise 3 - implementation in Python exercise 1."
   ]
  },
  {
   "cell_type": "code",
   "execution_count": 27,
   "metadata": {},
   "outputs": [],
   "source": [
    "import networkx as nx\n",
    "import matplotlib.pyplot as plt"
   ]
  },
  {
   "cell_type": "code",
   "execution_count": 28,
   "metadata": {},
   "outputs": [],
   "source": [
    "G = nx.Graph()\n",
    "G.add_nodes_from(\"ABCDEFGHIJ\")\n",
    "G.add_edges_from([(\"A\", \"D\"), (\"A\", \"C\"), (\"A\", \"F\"), (\"A\", \"E\"), (\"A\", \"B\"), (\"D\", \"C\"), (\"C\", \"F\"), (\"F\", \"E\"), (\"B\", \"G\"), (\"G\", \"I\"), (\"G\", \"J\"), (\"G\", \"H\"), (\"H\", \"I\"), (\"H\", \"J\"), (\"I\", \"J\")])"
   ]
  },
  {
   "cell_type": "markdown",
   "metadata": {},
   "source": [
    "a) Draw the network."
   ]
  },
  {
   "cell_type": "code",
   "execution_count": 29,
   "metadata": {},
   "outputs": [
    {
     "data": {
      "image/png": "[encoded data removed]",
      "text/plain": [
       "<Figure size 432x288 with 1 Axes>"
      ]
     },
     "metadata": {},
     "output_type": "display_data"
    }
   ],
   "source": [
    "nx.draw(G,with_labels=True)\n",
    "plt.savefig(\"C:/STUDIA, DOCS/APPLIED MATHEMATICS/SEMESTER 1/Diffusion processes on complex networks/LAB 1/Graph.png\")\n",
    "plt.show()"
   ]
  },
  {
   "cell_type": "markdown",
   "metadata": {},
   "source": [
    "b) Number of nodes:"
   ]
  },
  {
   "cell_type": "code",
   "execution_count": 31,
   "metadata": {},
   "outputs": [
    {
     "data": {
      "text/plain": [
       "10"
      ]
     },
     "execution_count": 31,
     "metadata": {},
     "output_type": "execute_result"
    }
   ],
   "source": [
    "G.number_of_nodes()"
   ]
  },
  {
   "cell_type": "markdown",
   "metadata": {},
   "source": [
    "c) **density** of the network:"
   ]
  },
  {
   "cell_type": "code",
   "execution_count": 32,
   "metadata": {},
   "outputs": [
    {
     "data": {
      "text/plain": [
       "0.3333333333333333"
      ]
     },
     "execution_count": 32,
     "metadata": {},
     "output_type": "execute_result"
    }
   ],
   "source": [
    "nx.density(G)"
   ]
  },
  {
   "cell_type": "markdown",
   "metadata": {},
   "source": [
    "d) **degree** of each node:"
   ]
  },
  {
   "cell_type": "code",
   "execution_count": 33,
   "metadata": {},
   "outputs": [
    {
     "data": {
      "text/plain": [
       "DegreeView({'A': 5, 'B': 2, 'C': 3, 'D': 2, 'E': 2, 'F': 3, 'G': 4, 'H': 3, 'I': 3, 'J': 3})"
      ]
     },
     "execution_count": 33,
     "metadata": {},
     "output_type": "execute_result"
    }
   ],
   "source": [
    "G.degree()"
   ]
  },
  {
   "cell_type": "markdown",
   "metadata": {},
   "source": [
    "e) **clustering** of each node:"
   ]
  },
  {
   "cell_type": "code",
   "execution_count": 36,
   "metadata": {},
   "outputs": [
    {
     "data": {
      "text/plain": [
       "{'A': 0.3,\n",
       " 'B': 0,\n",
       " 'C': 0.6666666666666666,\n",
       " 'D': 1.0,\n",
       " 'E': 1.0,\n",
       " 'F': 0.6666666666666666,\n",
       " 'G': 0.5,\n",
       " 'H': 1.0,\n",
       " 'I': 1.0,\n",
       " 'J': 1.0}"
      ]
     },
     "execution_count": 36,
     "metadata": {},
     "output_type": "execute_result"
    }
   ],
   "source": [
    "nx.clustering(G)"
   ]
  },
  {
   "cell_type": "code",
   "execution_count": 37,
   "metadata": {},
   "outputs": [
    {
     "data": {
      "text/plain": [
       "0.7133333333333333"
      ]
     },
     "execution_count": 37,
     "metadata": {},
     "output_type": "execute_result"
    }
   ],
   "source": [
    "nx.average_clustering(G)"
   ]
  },
  {
   "cell_type": "markdown",
   "metadata": {},
   "source": [
    "f) **closeness centrality** of each node:"
   ]
  },
  {
   "cell_type": "markdown",
   "metadata": {},
   "source": [
    "**Row closeness centraity**"
   ]
  },
  {
   "cell_type": "code",
   "execution_count": 44,
   "metadata": {},
   "outputs": [
    {
     "data": {
      "text/plain": [
       "{'A': 0.0625,\n",
       " 'B': 0.0625,\n",
       " 'C': 0.045454545454545456,\n",
       " 'D': 0.043478260869565216,\n",
       " 'E': 0.043478260869565216,\n",
       " 'F': 0.045454545454545456,\n",
       " 'G': 0.05555555555555555,\n",
       " 'H': 0.041666666666666664,\n",
       " 'I': 0.041666666666666664,\n",
       " 'J': 0.041666666666666664}"
      ]
     },
     "execution_count": 44,
     "metadata": {},
     "output_type": "execute_result"
    }
   ],
   "source": [
    "norm_closeness_centrality = nx.closeness_centrality(G)\n",
    "row_closeness_centrality = {}\n",
    "for i in norm_closeness_centrality:\n",
    "    row_closeness_centrality[i] = norm_closeness_centrality[i]/9\n",
    "row_closeness_centrality"
   ]
  },
  {
   "cell_type": "markdown",
   "metadata": {},
   "source": [
    "**Normalised closeness centrality**"
   ]
  },
  {
   "cell_type": "code",
   "execution_count": 45,
   "metadata": {},
   "outputs": [
    {
     "data": {
      "text/plain": [
       "{'A': 0.5625,\n",
       " 'B': 0.5625,\n",
       " 'C': 0.4090909090909091,\n",
       " 'D': 0.391304347826087,\n",
       " 'E': 0.391304347826087,\n",
       " 'F': 0.4090909090909091,\n",
       " 'G': 0.5,\n",
       " 'H': 0.375,\n",
       " 'I': 0.375,\n",
       " 'J': 0.375}"
      ]
     },
     "execution_count": 45,
     "metadata": {},
     "output_type": "execute_result"
    }
   ],
   "source": [
    "nx.closeness_centrality(G)"
   ]
  },
  {
   "cell_type": "markdown",
   "metadata": {},
   "source": [
    "g) **betweenness centrality** of each node:"
   ]
  },
  {
   "cell_type": "code",
   "execution_count": 46,
   "metadata": {},
   "outputs": [
    {
     "data": {
      "text/plain": [
       "{'A': 0.611111111111111,\n",
       " 'B': 0.5555555555555556,\n",
       " 'C': 0.013888888888888888,\n",
       " 'D': 0.0,\n",
       " 'E': 0.0,\n",
       " 'F': 0.013888888888888888,\n",
       " 'G': 0.5,\n",
       " 'H': 0.0,\n",
       " 'I': 0.0,\n",
       " 'J': 0.0}"
      ]
     },
     "execution_count": 46,
     "metadata": {},
     "output_type": "execute_result"
    }
   ],
   "source": [
    "nx.betweenness_centrality(G)"
   ]
  },
  {
   "cell_type": "markdown",
   "metadata": {},
   "source": [
    "All measures calculated using NetworkX in Python have the same values as calculated using specific formulas, so conclusions are also the same. "
   ]
  }
 ],
 "metadata": {
  "kernelspec": {
   "display_name": "Python 3",
   "language": "python",
   "name": "python3"
  },
  "language_info": {
   "codemirror_mode": {
    "name": "ipython",
    "version": 3
   },
   "file_extension": ".py",
   "mimetype": "text/x-python",
   "name": "python",
   "nbconvert_exporter": "python",
   "pygments_lexer": "ipython3",
   "version": "3.8.2"
  }
 },
 "nbformat": 4,
 "nbformat_minor": 4
}
