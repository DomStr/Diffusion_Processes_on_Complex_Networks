{
 "cells": [
  {
   "cell_type": "code",
   "execution_count": 49,
   "metadata": {},
   "outputs": [],
   "source": [
    "import networkx as nx\n",
    "import matplotlib.pyplot as plt\n",
    "import random as rn\n",
    "import numpy as np\n",
    "from collections import Counter\n",
    "from operator import itemgetter"
   ]
  },
  {
   "cell_type": "code",
   "execution_count": 50,
   "metadata": {},
   "outputs": [],
   "source": [
    "def custom_sort(t):\n",
    "    return t[1]\n",
    "\n",
    "G = nx.Graph()\n",
    "n = 3\n",
    "m = 2\n",
    "N = range(n)\n",
    "newN = 2000\n",
    "nodes = list(N)\n",
    "G.add_nodes_from(nodes)\n",
    "for i in G.nodes():\n",
    "    while len(list(G.neighbors(i))) < 1:\n",
    "        n2 = rn.choice(nodes)\n",
    "        if i != n2 and n2 not in list(G.edges(i)) and n2 not in list(G.edges(n2)):\n",
    "            G.add_edge(i,n2)\n",
    "\n",
    "#nN = n+1\n",
    "#G.add_node(nN)\n",
    "#e1 = rn.choice(nodes)\n",
    "#G.add_edge(nN,e1)\n",
    "#nodes.remove(e1)\n",
    "#e2 = rn.choice(nodes)\n",
    "#G.add_edge(nN,e2)            \n",
    "NW = n+1\n",
    "\n",
    "while NW <= newN:\n",
    "    #degreesum = np.sum(G.degree())\n",
    "    #for k in G.nodes():\n",
    "        #prob = G.degree(k)/(2 * len(G.edges()))\n",
    "    lista = list(G.nodes())\n",
    "    ee1 = rn.choice(lista)\n",
    "    lista.remove(ee1)\n",
    "    ee2 = rn.choice(lista)\n",
    "    G.add_node(NW)\n",
    "    G.add_edge(ee1,NW)\n",
    "    G.add_edge(ee2,NW)\n",
    "    #l = list(G.degree(G.nodes()))\n",
    "    #l.sort(key=custom_sort, reverse = True)\n",
    "    #degree = l[0:m]\n",
    "    #maxde = [w[0] for w in degree]\n",
    "    #for k in range(m):\n",
    "    #    if n != maxde[k]:\n",
    "    #        G.add_edge(NW, maxde[k])\n",
    "    NW += 1"
   ]
  },
  {
   "cell_type": "code",
   "execution_count": 51,
   "metadata": {},
   "outputs": [
    {
     "name": "stdout",
     "output_type": "stream",
     "text": [
      "Number of edges:  3996\n",
      "Degrees:  [(2, 20), (7, 17), (13, 17), (50, 17), (6, 16), (9, 16), (0, 15), (11, 15), (34, 15), (40, 15)]\n",
      "Number of edges:  3996\n",
      "Number of nodes:  2000\n",
      "Average degree:  7.5\n",
      "Variance of the degree distribution:  42.25\n"
     ]
    },
    {
     "data": {
      "image/png": "[encoded data removed]",
      "text/plain": [
       "<Figure size 432x288 with 1 Axes>"
      ]
     },
     "metadata": {
      "needs_background": "light"
     },
     "output_type": "display_data"
    },
    {
     "data": {
      "image/png": "[encoded data removed]",
      "text/plain": [
       "<Figure size 432x288 with 1 Axes>"
      ]
     },
     "metadata": {
      "needs_background": "light"
     },
     "output_type": "display_data"
    }
   ],
   "source": [
    "\n",
    "#GRAPH PLOT\n",
    "#plt.title(r\"$n = %.2f$\"%newN)\n",
    "#nx.draw_circular(G,with_labels=True)\n",
    "#plt.savefig(\"C:/STUDIA, DOCS/APPLIED MATHEMATICS/SEMESTER 1/Diffusion processes on complex networks/Barabasi_Albert30.png\")\n",
    "#plt.show()\n",
    "\n",
    "#DATA ANALUSYIS\n",
    "num = G.number_of_edges()\n",
    "l = list(G.degree(G.nodes()))\n",
    "l.sort(key=custom_sort, reverse = True)\n",
    "print('Number of edges: ', num)\n",
    "print('Degrees: ', l[0:10])\n",
    "vert = G.number_of_nodes()\n",
    "aver_degree = np.mean(list(G.degree())[1])  #2*num/vert     #np.mean(G.degree())\n",
    "var_de = np.var(list(G.degree())[1])\n",
    "print('Number of edges: ', num)\n",
    "print('Number of nodes: ', vert)\n",
    "print('Average degree: ', aver_degree)\n",
    "print('Variance of the degree distribution: ', var_de)\n",
    "\n",
    "#Degree distribution\n",
    "def degree_dist(g):\n",
    "    degrees = [g.degree(n) for n in g.nodes()]\n",
    "    plt.figure(1)\n",
    "    plt.title('Degree distribution')\n",
    "    plt.hist(degrees)\n",
    "    plt.show()\n",
    "    plt.figure(2)\n",
    "    degree_counts = Counter(degrees)                                                                                                 \n",
    "    x, y = zip(*degree_counts.items())\n",
    "    plt.scatter(x,y)                                                                                                    \n",
    "    plt.show()\n",
    "    \n",
    "degree_dist(G)"
   ]
  },
  {
   "cell_type": "code",
   "execution_count": 52,
   "metadata": {},
   "outputs": [
    {
     "name": "stdout",
     "output_type": "stream",
     "text": [
      "Number of edges:  3996\n",
      "Degrees:  [(8, 139), (2, 80), (7, 56), (5, 50), (14, 46), (114, 44), (12, 42), (15, 40), (11, 38), (39, 38)]\n",
      "Number of edges:  3996\n",
      "Number of nodes:  2000\n",
      "Average degree:  12.5\n",
      "Variance of the degree distribution:  132.25\n"
     ]
    },
    {
     "data": {
      "image/png": "[encoded data removed]",
      "text/plain": [
       "<Figure size 432x288 with 1 Axes>"
      ]
     },
     "metadata": {
      "needs_background": "light"
     },
     "output_type": "display_data"
    },
    {
     "data": {
      "image/png": "[encoded data removed]",
      "text/plain": [
       "<Figure size 432x288 with 1 Axes>"
      ]
     },
     "metadata": {
      "needs_background": "light"
     },
     "output_type": "display_data"
    }
   ],
   "source": [
    "def custom_sort(t):\n",
    "    return t[1]\n",
    "\n",
    "ba=nx.barabasi_albert_graph(newN,2)\n",
    "\n",
    "#GRAPH PLOT\n",
    "#plt.title(r\"$n = %.2f$\"%newN)\n",
    "#nx.draw_circular(ba,with_labels=True)\n",
    "#plt.savefig(\"C:/STUDIA, DOCS/APPLIED MATHEMATICS/SEMESTER 1/Diffusion processes on complex networks/Barabasi_Albertbuildin30.png\")\n",
    "#plt.show()\n",
    "\n",
    "numBA = ba.number_of_edges()\n",
    "l = list(ba.degree(ba.nodes()))\n",
    "l.sort(key=custom_sort, reverse = True)\n",
    "print('Number of edges: ', numba)\n",
    "print('Degrees: ', l[0:10])\n",
    "vertBA = ba.number_of_nodes()\n",
    "aver_degreeBA = np.mean(list(ba.degree())[1])   #2*numBA/vertBA \n",
    "var_deBA = np.var(list(ba.degree())[1])\n",
    "print('Number of edges: ', numBA)\n",
    "print('Number of nodes: ', vertBA)\n",
    "print('Average degree: ', aver_degreeBA)\n",
    "print('Variance of the degree distribution: ', var_deBA)\n",
    "\n",
    "\n",
    "#Degree distribution   \n",
    "degree_dist(ba)"
   ]
  },
  {
   "cell_type": "code",
   "execution_count": 54,
   "metadata": {},
   "outputs": [
    {
     "data": {
      "image/png": "[encoded data removed]",
      "text/plain": [
       "<Figure size 432x288 with 1 Axes>"
      ]
     },
     "metadata": {
      "needs_background": "light"
     },
     "output_type": "display_data"
    }
   ],
   "source": [
    "#FITIING MODEL DEGREE DISTRIBUTION TO OBTAINED DATA\n",
    "degrees = [G.degree(n) for n in G.nodes()]\n",
    "degreesba = [ba.degree(n) for n in ba.nodes()]\n",
    "plt.figure(1)\n",
    "plt.title('Fitting model degree distribution to btainde data')\n",
    "plt.hist(degreesba) #histogram - data from build in function erdos_renyi_graph(n,p)\n",
    "degree_counts = Counter(degrees)                                                                                                 \n",
    "x, y = zip(*degree_counts.items())\n",
    "plt.scatter(x,y, marker='*', color=\"red\")   #from obtainde data via implemented function                                                                                                 \n",
    "plt.show()"
   ]
  },
  {
   "cell_type": "code",
   "execution_count": null,
   "metadata": {},
   "outputs": [],
   "source": []
  }
 ],
 "metadata": {
  "kernelspec": {
   "display_name": "Python 3",
   "language": "python",
   "name": "python3"
  },
  "language_info": {
   "codemirror_mode": {
    "name": "ipython",
    "version": 3
   },
   "file_extension": ".py",
   "mimetype": "text/x-python",
   "name": "python",
   "nbconvert_exporter": "python",
   "pygments_lexer": "ipython3",
   "version": "3.8.2"
  }
 },
 "nbformat": 4,
 "nbformat_minor": 4
}
