{
 "cells": [
  {
   "cell_type": "code",
   "execution_count": 46,
   "metadata": {},
   "outputs": [],
   "source": [
    "import networkx as nx\n",
    "import matplotlib.pyplot as plt\n",
    "import random as rn\n",
    "import numpy as np\n",
    "from collections import Counter\n",
    "from operator import itemgetter"
   ]
  },
  {
   "cell_type": "code",
   "execution_count": 39,
   "metadata": {},
   "outputs": [],
   "source": [
    "#Solution 1\n",
    "#Implemenattion ow Watt-Strogatz model\n",
    "\n",
    "def WattStrogatz(n,p):\n",
    "    G = nx.Graph()\n",
    "    N = range(n)\n",
    "    nodes = list(N)\n",
    "    G.add_nodes_from(nodes)\n",
    "\n",
    "    for i in range(n-2):\n",
    "        G.add_edges_from([(nodes[i],nodes[i+1])]) #creating connection between all nearest neighnbours\n",
    "        G.add_edges_from([(nodes[i],nodes[i+2])]) #creating connection between second neearest neihbours, e.g.: (1,3), (1,9)\n",
    "    G.add_edges_from([(nodes[0],nodes[n-1])])\n",
    "    G.add_edges_from([(nodes[0],nodes[n-2])])\n",
    "    G.add_edges_from([(nodes[n-2],nodes[n-1])])\n",
    "    G.add_edges_from([(nodes[n-1],nodes[1])])\n",
    "\n",
    "    if p > 0:\n",
    "        for k in range(n): #rewinding each existing links with p probability\n",
    "            if rn.random() <= p:\n",
    "                w = list(G.edges(k))\n",
    "                length = len(w)\n",
    "                for m in range(length):\n",
    "                    n1 = k\n",
    "                    n2 = rn.choice(nodes)\n",
    "                    if n1 != n2 and G.get_edge_data(n1,n2) == None:\n",
    "                        G.add_edge(n1,n2)\n",
    "                        e = list(G.edges(n1))\n",
    "                        r = rn.choice(e)\n",
    "                        G.remove_edge(*r)\n",
    "    return G"
   ]
  },
  {
   "cell_type": "code",
   "execution_count": 101,
   "metadata": {},
   "outputs": [
    {
     "name": "stdout",
     "output_type": "stream",
     "text": [
      "Number of edges:  4000\n",
      "Number of nodes:  2000\n",
      "Average degree:  4.0\n",
      "Variance of the degree distribution:  1.0\n"
     ]
    },
    {
     "data": {
      "image/png": "[encoded data removed]",
      "text/plain": [
       "<Figure size 432x288 with 1 Axes>"
      ]
     },
     "metadata": {
      "needs_background": "light"
     },
     "output_type": "display_data"
    },
    {
     "data": {
      "image/png": "[encoded data removed]",
      "text/plain": [
       "<Figure size 432x288 with 1 Axes>"
      ]
     },
     "metadata": {
      "needs_background": "light"
     },
     "output_type": "display_data"
    }
   ],
   "source": [
    "n = 2000\n",
    "p = 0.4\n",
    "\n",
    "G = WattStrogatz(n,p) \n",
    "\n",
    "#GRAPH PLOT\n",
    "#plt.title(r\"$p = %.2f$\"%p)\n",
    "#nx.draw_circular(G,with_labels=True)\n",
    "#plt.savefig(\"C:/STUDIA, DOCS/APPLIED MATHEMATICS/SEMESTER 1/Diffusion processes on complex networks/WattStrogatz200004.png\")\n",
    "#plt.show()\n",
    "\n",
    "#DATA ANALYSIS\n",
    "\n",
    "num = G.number_of_edges()\n",
    "vert = G.number_of_nodes()\n",
    "aver_degree = 2*num/vert     #np.mean(G.degree())\n",
    "var_de = np.var(list(G.degree())[1])\n",
    "print('Number of edges: ', num)\n",
    "print('Number of nodes: ', vert)\n",
    "print('Average degree: ', aver_degree)\n",
    "print('Variance of the degree distribution: ', var_de)\n",
    "\n",
    "#Degree distribution\n",
    "def degree_dist(g):\n",
    "    degrees = [g.degree(n) for n in g.nodes()]\n",
    "    plt.figure(1)\n",
    "    plt.title('Degree distribution')\n",
    "    plt.hist(degrees)\n",
    "    plt.show()\n",
    "    plt.figure(2)\n",
    "    degree_counts = Counter(degrees)                                                                                                 \n",
    "    x, y = zip(*degree_counts.items())\n",
    "    plt.scatter(x,y)                                                                                                    \n",
    "    plt.show()\n",
    "    \n",
    "degree_dist(G)\n",
    "\n"
   ]
  },
  {
   "cell_type": "code",
   "execution_count": 102,
   "metadata": {},
   "outputs": [
    {
     "name": "stdout",
     "output_type": "stream",
     "text": [
      "Number of edges:  4000\n",
      "Number of edges:  2000\n",
      "Average degree:  4.0\n",
      "Variace of the degree distribution:  2.25\n"
     ]
    },
    {
     "data": {
      "image/png": "[encoded data removed]",
      "text/plain": [
       "<Figure size 432x288 with 1 Axes>"
      ]
     },
     "metadata": {
      "needs_background": "light"
     },
     "output_type": "display_data"
    },
    {
     "data": {
      "image/png": "[encoded data removed]",
      "text/plain": [
       "<Figure size 432x288 with 1 Axes>"
      ]
     },
     "metadata": {
      "needs_background": "light"
     },
     "output_type": "display_data"
    }
   ],
   "source": [
    "#Buld in function to check if implemetation is correct\n",
    "ws=nx.watts_strogatz_graph(n,4,p)\n",
    "numws = ws.number_of_edges()\n",
    "vertws = ws.number_of_nodes()\n",
    "aver_degreews = 2*numws/vertws\n",
    "var_dews = np.var(list(ws.degree())[1])\n",
    "print('Number of edges: ', numws)\n",
    "print('Number of edges: ', vertws)\n",
    "print('Average degree: ', aver_degreews)\n",
    "print('Variace of the degree distribution: ', var_dews)\n",
    "degree_dist(ws)\n",
    "#plt.title(r\"$p = %.2f$\"%p)\n",
    "#nx.draw_circular(ws,with_labels=True)\n",
    "#plt.savefig(\"C:/STUDIA, DOCS/APPLIED MATHEMATICS/SEMESTER 1/Diffusion processes on complex networks/WattStrogatz_buildin200004.png\")\n",
    "#plt.show()"
   ]
  },
  {
   "cell_type": "code",
   "execution_count": 107,
   "metadata": {},
   "outputs": [
    {
     "data": {
      "image/png": "[encoded data removed]",
      "text/plain": [
       "<Figure size 432x288 with 1 Axes>"
      ]
     },
     "metadata": {
      "needs_background": "light"
     },
     "output_type": "display_data"
    }
   ],
   "source": [
    "#FITIING MODEL DEGREE DISTRIBUTION TO OBTAINED DATA\n",
    "degrees = [G.degree(n) for n in G.nodes()]\n",
    "degreesws = [ws.degree(n) for n in ws.nodes()]\n",
    "plt.figure(1)\n",
    "plt.title('Fitting model degree distribution to btainde data')\n",
    "plt.hist(degreesws) #histogram - data from build in function watts_strogotz()\n",
    "degree_counts = Counter(degrees)                                                                                                 \n",
    "x, y = zip(*degree_counts.items())\n",
    "plt.scatter(x,y, marker='*', color=\"red\")   #from obtainde data via implemented function                                                                                                 \n",
    "plt.show()\n",
    "\n"
   ]
  },
  {
   "cell_type": "code",
   "execution_count": null,
   "metadata": {},
   "outputs": [],
   "source": []
  }
 ],
 "metadata": {
  "kernelspec": {
   "display_name": "Python 3",
   "language": "python",
   "name": "python3"
  },
  "language_info": {
   "codemirror_mode": {
    "name": "ipython",
    "version": 3
   },
   "file_extension": ".py",
   "mimetype": "text/x-python",
   "name": "python",
   "nbconvert_exporter": "python",
   "pygments_lexer": "ipython3",
   "version": "3.8.2"
  }
 },
 "nbformat": 4,
 "nbformat_minor": 4
}
